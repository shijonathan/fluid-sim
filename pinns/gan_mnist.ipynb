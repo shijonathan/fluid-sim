{
 "cells": [
  {
   "cell_type": "code",
   "execution_count": 1,
   "metadata": {},
   "outputs": [],
   "source": [
    "import torch\n",
    "import torch.nn as nn\n",
    "\n",
    "import matplotlib.pyplot as plt\n",
    "import torchvision\n",
    "import torchvision.transforms as transforms"
   ]
  },
  {
   "cell_type": "code",
   "execution_count": 4,
   "metadata": {},
   "outputs": [
    {
     "data": {
      "text/plain": [
       "<torch._C.Generator at 0x2284b5dd790>"
      ]
     },
     "execution_count": 4,
     "metadata": {},
     "output_type": "execute_result"
    }
   ],
   "source": [
    "torch.manual_seed(1111)"
   ]
  },
  {
   "cell_type": "code",
   "execution_count": 5,
   "metadata": {},
   "outputs": [],
   "source": [
    "device = torch.device(\"cuda\" if torch.cuda.is_available() else \"cpu\")"
   ]
  },
  {
   "cell_type": "code",
   "execution_count": 6,
   "metadata": {},
   "outputs": [],
   "source": [
    "transform = transforms.Compose(\n",
    "    [transforms.ToTensor(),\n",
    "     transforms.Normalize((0.5,), (0.5,))]\n",
    ")"
   ]
  },
  {
   "cell_type": "code",
   "execution_count": 7,
   "metadata": {},
   "outputs": [
    {
     "name": "stderr",
     "output_type": "stream",
     "text": [
      "  0%|          | 0/9912422 [00:00<?, ?it/s]"
     ]
    },
    {
     "name": "stdout",
     "output_type": "stream",
     "text": [
      "Downloading http://yann.lecun.com/exdb/mnist/train-images-idx3-ubyte.gz\n",
      "Downloading http://yann.lecun.com/exdb/mnist/train-images-idx3-ubyte.gz to .\\MNIST\\raw\\train-images-idx3-ubyte.gz\n"
     ]
    },
    {
     "name": "stderr",
     "output_type": "stream",
     "text": [
      "9913344it [00:00, 50368047.09it/s]                             \n"
     ]
    },
    {
     "name": "stdout",
     "output_type": "stream",
     "text": [
      "Extracting .\\MNIST\\raw\\train-images-idx3-ubyte.gz to .\\MNIST\\raw\n"
     ]
    },
    {
     "name": "stderr",
     "output_type": "stream",
     "text": [
      "29696it [00:00, 29662789.14it/s]         "
     ]
    },
    {
     "name": "stdout",
     "output_type": "stream",
     "text": [
      "\n",
      "Downloading http://yann.lecun.com/exdb/mnist/train-labels-idx1-ubyte.gz\n",
      "Downloading http://yann.lecun.com/exdb/mnist/train-labels-idx1-ubyte.gz to .\\MNIST\\raw\\train-labels-idx1-ubyte.gz\n",
      "Extracting .\\MNIST\\raw\\train-labels-idx1-ubyte.gz to .\\MNIST\\raw\n",
      "\n",
      "Downloading http://yann.lecun.com/exdb/mnist/t10k-images-idx3-ubyte.gz\n",
      "Downloading http://yann.lecun.com/exdb/mnist/t10k-images-idx3-ubyte.gz to .\\MNIST\\raw\\t10k-images-idx3-ubyte.gz\n"
     ]
    },
    {
     "name": "stderr",
     "output_type": "stream",
     "text": [
      "\n",
      "1649664it [00:00, 27406866.43it/s]         \n"
     ]
    },
    {
     "name": "stdout",
     "output_type": "stream",
     "text": [
      "Extracting .\\MNIST\\raw\\t10k-images-idx3-ubyte.gz to .\\MNIST\\raw\n",
      "\n",
      "Downloading http://yann.lecun.com/exdb/mnist/t10k-labels-idx1-ubyte.gz\n"
     ]
    },
    {
     "name": "stderr",
     "output_type": "stream",
     "text": [
      "5120it [00:00, ?it/s]                   "
     ]
    },
    {
     "name": "stdout",
     "output_type": "stream",
     "text": [
      "Downloading http://yann.lecun.com/exdb/mnist/t10k-labels-idx1-ubyte.gz to .\\MNIST\\raw\\t10k-labels-idx1-ubyte.gz\n",
      "Extracting .\\MNIST\\raw\\t10k-labels-idx1-ubyte.gz to .\\MNIST\\raw\n",
      "\n"
     ]
    },
    {
     "name": "stderr",
     "output_type": "stream",
     "text": [
      "\n"
     ]
    }
   ],
   "source": [
    "train_set = torchvision.datasets.MNIST(root=\".\", download=True, transform=transform)"
   ]
  },
  {
   "cell_type": "code",
   "execution_count": 8,
   "metadata": {},
   "outputs": [],
   "source": [
    "batch_size = 64\n",
    "train_loader = torch.utils.data.DataLoader(train_set, batch_size=batch_size, shuffle=True)"
   ]
  },
  {
   "cell_type": "code",
   "execution_count": 9,
   "metadata": {},
   "outputs": [],
   "source": [
    "class Discriminator(nn.Module):\n",
    "    def __init__(self):\n",
    "        super(Discriminator, self).__init__()\n",
    "        self.model = nn.Sequential(\n",
    "            nn.Linear(784, 1024),\n",
    "            nn.ReLU(),\n",
    "            nn.Dropout(0.3),\n",
    "            nn.Linear(1024, 512),\n",
    "            nn.ReLU(),\n",
    "            nn.Dropout(0.3),\n",
    "            nn.Linear(512, 256),\n",
    "            nn.ReLU(),\n",
    "            nn.Dropout(0.3),\n",
    "            nn.Linear(256, 1),\n",
    "            nn.Sigmoid()\n",
    "        )\n",
    "\n",
    "    def forward(self, x):\n",
    "        x = x.view(x.size(0), 784)\n",
    "        return self.model(x)"
   ]
  },
  {
   "cell_type": "code",
   "execution_count": 10,
   "metadata": {},
   "outputs": [],
   "source": [
    "discriminator = Discriminator().to(device)"
   ]
  },
  {
   "cell_type": "code",
   "execution_count": 11,
   "metadata": {},
   "outputs": [],
   "source": [
    "class Generator(nn.Module):\n",
    "    def __init__(self):\n",
    "        super(Generator, self).__init__()\n",
    "        self.model = nn.Sequential(\n",
    "            nn.Linear(100, 256),\n",
    "            nn.ReLU(),\n",
    "            nn.Linear(256, 512),\n",
    "            nn.ReLU(),\n",
    "            nn.Linear(512, 1024),\n",
    "            nn.ReLU(),\n",
    "            nn.Linear(1024, 784),\n",
    "            nn.Tanh(),\n",
    "        )\n",
    "\n",
    "    def forward(self, x):\n",
    "        output = self.model(x)\n",
    "        output = output.view(x.size(0), 1, 28, 28)\n",
    "        return output"
   ]
  },
  {
   "cell_type": "code",
   "execution_count": 12,
   "metadata": {},
   "outputs": [],
   "source": [
    "generator = Generator().to(device=device)"
   ]
  },
  {
   "cell_type": "code",
   "execution_count": 13,
   "metadata": {},
   "outputs": [],
   "source": [
    "lr = 0.0001\n",
    "num_epochs = 50\n",
    "loss_function = nn.BCELoss()\n",
    "\n",
    "optimizer_discriminator = torch.optim.Adam(discriminator.parameters(), lr=lr)\n",
    "optimizer_generator = torch.optim.Adam(generator.parameters(), lr=lr)\n"
   ]
  },
  {
   "cell_type": "code",
   "execution_count": 21,
   "metadata": {},
   "outputs": [
    {
     "name": "stdout",
     "output_type": "stream",
     "text": [
      "Epoch: 0 Loss D.: 0.07808971405029297\n",
      "Epoch: 0 Loss G.: 5.819380760192871\n",
      "Epoch: 1 Loss D.: 0.007557641249150038\n",
      "Epoch: 1 Loss G.: 5.315274715423584\n",
      "Epoch: 2 Loss D.: 0.029097825288772583\n",
      "Epoch: 2 Loss G.: 4.693731307983398\n",
      "Epoch: 3 Loss D.: 0.0010187812149524689\n",
      "Epoch: 3 Loss G.: 10.307519912719727\n",
      "Epoch: 4 Loss D.: 0.0006924431072548032\n",
      "Epoch: 4 Loss G.: 8.423335075378418\n",
      "Epoch: 5 Loss D.: 0.0\n",
      "Epoch: 5 Loss G.: 52.182212829589844\n",
      "Epoch: 6 Loss D.: 1.862645371275562e-09\n",
      "Epoch: 6 Loss G.: 99.13206481933594\n",
      "Epoch: 7 Loss D.: 0.0\n",
      "Epoch: 7 Loss G.: 86.74839782714844\n",
      "Epoch: 8 Loss D.: 0.0\n",
      "Epoch: 8 Loss G.: 87.87816619873047\n",
      "Epoch: 9 Loss D.: 0.0\n",
      "Epoch: 9 Loss G.: 85.0477523803711\n",
      "Epoch: 10 Loss D.: 0.0\n",
      "Epoch: 10 Loss G.: 82.33219146728516\n",
      "Epoch: 11 Loss D.: 0.0\n",
      "Epoch: 11 Loss G.: 83.29643249511719\n",
      "Epoch: 12 Loss D.: 0.0\n",
      "Epoch: 12 Loss G.: 88.38678741455078\n",
      "Epoch: 13 Loss D.: 0.0\n",
      "Epoch: 13 Loss G.: 75.39429473876953\n",
      "Epoch: 14 Loss D.: 0.0\n",
      "Epoch: 14 Loss G.: 78.79194641113281\n",
      "Epoch: 15 Loss D.: 0.0\n",
      "Epoch: 15 Loss G.: 72.89031982421875\n",
      "Epoch: 16 Loss D.: 0.0\n",
      "Epoch: 16 Loss G.: 74.98760986328125\n",
      "Epoch: 17 Loss D.: 0.0\n",
      "Epoch: 17 Loss G.: 80.06072998046875\n",
      "Epoch: 18 Loss D.: 0.0\n",
      "Epoch: 18 Loss G.: 73.94975280761719\n",
      "Epoch: 19 Loss D.: 0.0\n",
      "Epoch: 19 Loss G.: 71.78699493408203\n",
      "Epoch: 20 Loss D.: 0.0\n",
      "Epoch: 20 Loss G.: 98.97019958496094\n",
      "Epoch: 21 Loss D.: 0.0\n",
      "Epoch: 21 Loss G.: 98.98805236816406\n",
      "Epoch: 22 Loss D.: 0.0\n",
      "Epoch: 22 Loss G.: 99.62847900390625\n",
      "Epoch: 23 Loss D.: 0.0\n",
      "Epoch: 23 Loss G.: 99.01629638671875\n",
      "Epoch: 24 Loss D.: 0.0\n",
      "Epoch: 24 Loss G.: 99.61140441894531\n",
      "Epoch: 25 Loss D.: 0.0\n",
      "Epoch: 25 Loss G.: 99.088623046875\n",
      "Epoch: 26 Loss D.: 0.0\n",
      "Epoch: 26 Loss G.: 100.0\n",
      "Epoch: 27 Loss D.: 0.0\n",
      "Epoch: 27 Loss G.: 100.0\n",
      "Epoch: 28 Loss D.: 0.0\n",
      "Epoch: 28 Loss G.: 100.0\n",
      "Epoch: 29 Loss D.: 0.0\n",
      "Epoch: 29 Loss G.: 98.74557495117188\n",
      "Epoch: 30 Loss D.: 0.0\n",
      "Epoch: 30 Loss G.: 99.42060852050781\n",
      "Epoch: 31 Loss D.: 0.0\n",
      "Epoch: 31 Loss G.: 100.0\n",
      "Epoch: 32 Loss D.: 0.0\n",
      "Epoch: 32 Loss G.: 98.84881591796875\n",
      "Epoch: 33 Loss D.: 0.0\n",
      "Epoch: 33 Loss G.: 100.0\n",
      "Epoch: 34 Loss D.: 0.0\n",
      "Epoch: 34 Loss G.: 99.64146423339844\n",
      "Epoch: 35 Loss D.: 0.0\n",
      "Epoch: 35 Loss G.: 97.50343322753906\n",
      "Epoch: 36 Loss D.: 0.0\n",
      "Epoch: 36 Loss G.: 98.68901062011719\n",
      "Epoch: 37 Loss D.: 0.0\n",
      "Epoch: 37 Loss G.: 100.0\n",
      "Epoch: 38 Loss D.: 0.0\n",
      "Epoch: 38 Loss G.: 98.51288604736328\n",
      "Epoch: 39 Loss D.: 0.0\n",
      "Epoch: 39 Loss G.: 99.5316162109375\n",
      "Epoch: 40 Loss D.: 0.0\n",
      "Epoch: 40 Loss G.: 100.0\n",
      "Epoch: 41 Loss D.: 0.0\n",
      "Epoch: 41 Loss G.: 100.0\n",
      "Epoch: 42 Loss D.: 0.0\n",
      "Epoch: 42 Loss G.: 99.0509262084961\n",
      "Epoch: 43 Loss D.: 0.0\n",
      "Epoch: 43 Loss G.: 99.38250732421875\n",
      "Epoch: 44 Loss D.: 0.0\n",
      "Epoch: 44 Loss G.: 99.06645202636719\n",
      "Epoch: 45 Loss D.: 0.0\n",
      "Epoch: 45 Loss G.: 99.56647491455078\n",
      "Epoch: 46 Loss D.: 0.0\n",
      "Epoch: 46 Loss G.: 100.0\n",
      "Epoch: 47 Loss D.: 0.0\n",
      "Epoch: 47 Loss G.: 100.0\n",
      "Epoch: 48 Loss D.: 0.0\n",
      "Epoch: 48 Loss G.: 100.0\n",
      "Epoch: 49 Loss D.: 0.0\n",
      "Epoch: 49 Loss G.: 100.0\n"
     ]
    }
   ],
   "source": [
    "for epoch in range(num_epochs):\n",
    "    for n, (real_samples, mnist_labels) in enumerate(train_loader):\n",
    "        real_samples = real_samples.to(device)\n",
    "        batch_size = real_samples.size(0)\n",
    "        real_samples_labels = torch.ones((batch_size, 1)).to(device)\n",
    "        latent_space_samples = torch.randn((batch_size, 100)).to(device)\n",
    "        generated_samples = generator(latent_space_samples)\n",
    "        generated_samples_labels = torch.zeros((batch_size, 1)).to(device)\n",
    "        all_samples = torch.cat((real_samples, generated_samples))\n",
    "        all_samples_labels = torch.cat((real_samples_labels, generated_samples_labels))\n",
    "\n",
    "        # Training the Discriminator\n",
    "        discriminator.zero_grad()\n",
    "        output_discriminator = discriminator(all_samples.view(-1, 784))\n",
    "        loss_discriminator = loss_function(output_discriminator, all_samples_labels)\n",
    "        loss_discriminator.backward()\n",
    "        optimizer_discriminator.step()\n",
    "\n",
    "        # Data for training the Generator\n",
    "        latent_space_samples = torch.randn((batch_size, 100)).to(device)\n",
    "\n",
    "        # Training the Generator\n",
    "        generator.zero_grad()\n",
    "        generated_samples = generator(latent_space_samples)\n",
    "        output_discriminator_generated = discriminator(generated_samples.view(-1, 784))\n",
    "        loss_generator = loss_function(output_discriminator_generated, real_samples_labels)\n",
    "        loss_generator.backward()\n",
    "        optimizer_generator.step()\n",
    "\n",
    "        # Print loss\n",
    "        if n == len(train_loader) - 1:\n",
    "            print(f\"Epoch: {epoch} Loss D.: {loss_discriminator.item()}\")\n",
    "            print(f\"Epoch: {epoch} Loss G.: {loss_generator.item()}\")"
   ]
  },
  {
   "cell_type": "code",
   "execution_count": 22,
   "metadata": {},
   "outputs": [],
   "source": [
    "latent_space_samples = torch.randn(batch_size, 100).to(device=device)\n",
    "generated_samples = generator(latent_space_samples)"
   ]
  },
  {
   "cell_type": "code",
   "execution_count": 23,
   "metadata": {},
   "outputs": [
    {
     "data": {
      "image/png": "[encoded data removed]",
      "text/plain": [
       "<Figure size 432x288 with 16 Axes>"
      ]
     },
     "metadata": {},
     "output_type": "display_data"
    }
   ],
   "source": [
    "generated_samples = generated_samples.cpu().detach()\n",
    "for i in range(16):\n",
    "    ax = plt.subplot(4, 4, i + 1)\n",
    "    plt.imshow(generated_samples[i].reshape(28, 28), cmap=\"gray_r\")\n",
    "    plt.xticks([])\n",
    "    plt.yticks([])"
   ]
  }
 ],
 "metadata": {
  "kernelspec": {
   "display_name": "base",
   "language": "python",
   "name": "python3"
  },
  "language_info": {
   "codemirror_mode": {
    "name": "ipython",
    "version": 3
   },
   "file_extension": ".py",
   "mimetype": "text/x-python",
   "name": "python",
   "nbconvert_exporter": "python",
   "pygments_lexer": "ipython3",
   "version": "3.8.8"
  }
 },
 "nbformat": 4,
 "nbformat_minor": 2
}
