{
 "cells": [
  {
   "cell_type": "markdown",
   "metadata": {},
   "source": [
    "# PINN"
   ]
  },
  {
   "cell_type": "code",
   "execution_count": 2,
   "metadata": {},
   "outputs": [],
   "source": [
    "import torch\n",
    "import torch.nn as nn\n",
    "import torch.optim as optim\n",
    "import numpy as np\n",
    "import matplotlib.pyplot as plt\n",
    "import scipy.io\n",
    "\n",
    "from collections import OrderedDict\n",
    "from pyDOE import lhs\n",
    "from scipy.interpolate import griddata\n",
    "import matplotlib.animation as animation\n",
    "from mpl_toolkits.axes_grid1 import make_axes_locatable\n",
    "import matplotlib.gridspec as gridspec"
   ]
  },
  {
   "cell_type": "code",
   "execution_count": 3,
   "metadata": {},
   "outputs": [],
   "source": [
    "device = torch.device(\"cuda\" if torch.cuda.is_available() else \"cpu\")"
   ]
  },
  {
   "cell_type": "code",
   "execution_count": 4,
   "metadata": {},
   "outputs": [],
   "source": [
    "class DNN(nn.Module):\n",
    "    def __init__(self, layers):\n",
    "        super(DNN, self).__init__()\n",
    "        self.depth = len(layers) - 1\n",
    "\n",
    "        self.activation = nn.Tanh\n",
    "\n",
    "        layer_list = list()\n",
    "        for i in range(self.depth - 1):\n",
    "            layer_list.append(('layer_%d' % i, torch.nn.Linear(layers[i], layers[i+1])))\n",
    "            layer_list.append(('activation_%d' % i, self.activation()))\n",
    "\n",
    "        layer_list.append(('layer_%d' % (self.depth - 1), nn.Linear(layers[-2], layers[-1])))\n",
    "\n",
    "        layerDict = OrderedDict(layer_list)\n",
    "\n",
    "        self.layers = nn.Sequential(layerDict)\n",
    "\n",
    "    def forward(self, x):\n",
    "        out = self.layers(x)\n",
    "        return out"
   ]
  },
  {
   "cell_type": "code",
   "execution_count": 5,
   "metadata": {},
   "outputs": [],
   "source": [
    "# the physics-guided neural network\n",
    "class PhysicsInformedNN():\n",
    "    def __init__(self, X_u, u, X_f, layers, lb, ub, nu):\n",
    "        \n",
    "        # boundary conditions\n",
    "        self.lb = torch.tensor(lb).float().to(device)\n",
    "        self.ub = torch.tensor(ub).float().to(device)\n",
    "        \n",
    "        # data\n",
    "        self.x_u = torch.tensor(X_u[:, 0:1], requires_grad=True).float().to(device)\n",
    "        self.t_u = torch.tensor(X_u[:, 1:2], requires_grad=True).float().to(device)\n",
    "        self.x_f = torch.tensor(X_f[:, 0:1], requires_grad=True).float().to(device)\n",
    "        self.t_f = torch.tensor(X_f[:, 1:2], requires_grad=True).float().to(device)\n",
    "        self.u = torch.tensor(u).float().to(device)\n",
    "        \n",
    "        self.layers = layers\n",
    "        self.nu = nu\n",
    "        \n",
    "        # deep neural networks\n",
    "        self.dnn = DNN(layers).to(device)\n",
    "        \n",
    "        # optimizers: using the same settings\n",
    "        self.optimizer = torch.optim.LBFGS(\n",
    "            self.dnn.parameters(), \n",
    "            lr=1.0, \n",
    "            max_iter=50000, \n",
    "            max_eval=50000, \n",
    "            history_size=50,\n",
    "            tolerance_grad=1e-5, \n",
    "            tolerance_change=1.0 * np.finfo(float).eps,\n",
    "            line_search_fn=\"strong_wolfe\"       # can be \"strong_wolfe\"\n",
    "        )\n",
    "\n",
    "        self.iter = 0\n",
    "        \n",
    "    def net_u(self, x, t):  \n",
    "        u = self.dnn(torch.cat([x, t], dim=1))\n",
    "        return u\n",
    "    \n",
    "    def net_f(self, x, t):\n",
    "        \"\"\" The pytorch autograd version of calculating residual \"\"\"\n",
    "        u = self.net_u(x, t)\n",
    "        \n",
    "        u_t = torch.autograd.grad(\n",
    "            u, t, \n",
    "            grad_outputs=torch.ones_like(u),\n",
    "            retain_graph=True,\n",
    "            create_graph=True\n",
    "        )[0]\n",
    "        u_x = torch.autograd.grad(\n",
    "            u, x, \n",
    "            grad_outputs=torch.ones_like(u),\n",
    "            retain_graph=True,\n",
    "            create_graph=True\n",
    "        )[0]\n",
    "        u_xx = torch.autograd.grad(\n",
    "            u_x, x, \n",
    "            grad_outputs=torch.ones_like(u_x),\n",
    "            retain_graph=True,\n",
    "            create_graph=True\n",
    "        )[0]\n",
    "        \n",
    "        f = u_t + u * u_x - self.nu * u_xx\n",
    "        return f\n",
    "    \n",
    "    def loss_func(self):\n",
    "        self.optimizer.zero_grad()\n",
    "        \n",
    "        u_pred = self.net_u(self.x_u, self.t_u)\n",
    "        f_pred = self.net_f(self.x_f, self.t_f)\n",
    "        loss_u = torch.mean((self.u - u_pred) ** 2)\n",
    "        loss_f = torch.mean(f_pred ** 2)\n",
    "        \n",
    "        loss = loss_u + loss_f\n",
    "        loss.backward()\n",
    "        self.iter += 1\n",
    "        if self.iter % 100 == 0:\n",
    "            print(\n",
    "                'Iter %d, Loss: %.5e, Loss_u: %.5e, Loss_f: %.5e' % (self.iter, loss.item(), loss_u.item(), loss_f.item())\n",
    "            )\n",
    "        return loss\n",
    "    \n",
    "    def train(self):\n",
    "        self.dnn.train()\n",
    "                \n",
    "        # Backward and optimize\n",
    "        self.optimizer.step(self.loss_func)\n",
    " \n",
    "    def predict(self, X):\n",
    "        x = torch.tensor(X[:, 0:1], requires_grad=True).float().to(device)\n",
    "        t = torch.tensor(X[:, 1:2], requires_grad=True).float().to(device)\n",
    "\n",
    "        self.dnn.eval()\n",
    "        u = self.net_u(x, t)\n",
    "        f = self.net_f(x, t)\n",
    "        u = u.detach().cpu().numpy()\n",
    "        f = f.detach().cpu().numpy()\n",
    "        return u, f"
   ]
  },
  {
   "cell_type": "code",
   "execution_count": 3,
   "metadata": {},
   "outputs": [],
   "source": [
    "nu = 0.01/np.pi\n",
    "noise = 0.0        \n",
    "\n",
    "N_u = 100\n",
    "N_f = 10000\n",
    "layers = [2, 20, 20, 20, 20, 20, 20, 20, 20, 1]\n",
    "\n",
    "# data with all positions over all time\n",
    "# data = scipy.io.loadmat('C:\\\\Users\\\\Administrator\\\\Documents\\\\research\\\\fluid-sim\\\\data\\\\burgers_shock.mat') \n",
    "\n",
    "# empty data with only boundary and initial conditions\n",
    "data = scipy.io.loadmat('C:\\\\Users\\\\Administrator\\\\Documents\\\\research\\\\fluid-sim\\\\data\\\\empty_burgers_shock.mat') \n",
    "\n",
    "\n",
    "t = data['t'].flatten()[:,None] # 100 x 1\n",
    "x = data['x'].flatten()[:,None] # 256 x 1\n",
    "\n",
    "# data with all positions\n",
    "# Exact = np.real(data['usol']).T \n",
    "\n",
    "# data with only boundary and initial conditions\n",
    "Exact = np.real(data['newsol']).T\n",
    "\n",
    "X, T = np.meshgrid(x,t) # 100 x 256\n",
    "\n",
    "X_star = np.hstack((X.flatten()[:,None], T.flatten()[:,None])) # col 1 x col 2 t, 25600 x 2\n",
    "u_star = Exact.flatten()[:,None] # flattened Exact, 25600 x 1\n",
    "\n",
    "# Domain bounds\n",
    "lb = X_star.min(0)\n",
    "ub = X_star.max(0)\n",
    "\n",
    "xx1 = np.hstack((X[0:1,:].T, T[0:1,:].T)) # 256 x 2, initial condition\n",
    "uu1 = Exact[0:1,:].T # 256 x 1, soln at initial condition\n",
    "xx2 = np.hstack((X[:,0:1], T[:,0:1])) # 100 x 2, left boundary condition\n",
    "uu2 = Exact[:,0:1] # 100 x 1, soln at left boundary\n",
    "xx3 = np.hstack((X[:,-1:], T[:,-1:])) # 100 x 2, soln at right boundary\n",
    "uu3 = Exact[:,-1:] # 100 x 1, soln at right boundary\n",
    "\n",
    "X_u_train = np.vstack([xx1, xx2, xx3]) # 456 x 2\n",
    "X_f_train = lb + (ub-lb)*lhs(2, N_f) \n",
    "X_f_train = np.vstack((X_f_train, X_u_train)) # 10456 x 2\n",
    "u_train = np.vstack([uu1, uu2, uu3]) # 100 x 1\n",
    "\n",
    "idx = np.random.choice(X_u_train.shape[0], N_u, replace=False)\n",
    "X_u_train = X_u_train[idx, :]\n",
    "u_train = u_train[idx,:]"
   ]
  },
  {
   "cell_type": "code",
   "execution_count": 6,
   "metadata": {},
   "outputs": [
    {
     "data": {
      "text/plain": [
       "(100, 256)"
      ]
     },
     "execution_count": 6,
     "metadata": {},
     "output_type": "execute_result"
    }
   ],
   "source": [
    "X.shape"
   ]
  },
  {
   "cell_type": "code",
   "execution_count": 6,
   "metadata": {},
   "outputs": [],
   "source": [
    "model = PhysicsInformedNN(X_u_train, u_train, X_f_train, layers, lb, ub, nu)"
   ]
  },
  {
   "cell_type": "code",
   "execution_count": 7,
   "metadata": {},
   "outputs": [
    {
     "name": "stdout",
     "output_type": "stream",
     "text": [
      "Iter 100, Loss: 7.90034e-02, Loss_u: 5.44240e-02, Loss_f: 2.45794e-02\n",
      "Iter 200, Loss: 5.40192e-02, Loss_u: 3.75237e-02, Loss_f: 1.64956e-02\n",
      "Iter 300, Loss: 3.54032e-02, Loss_u: 2.09898e-02, Loss_f: 1.44134e-02\n",
      "Iter 400, Loss: 1.57223e-02, Loss_u: 8.16989e-03, Loss_f: 7.55240e-03\n",
      "Iter 500, Loss: 7.66486e-03, Loss_u: 2.63318e-03, Loss_f: 5.03167e-03\n",
      "Iter 600, Loss: 4.05165e-03, Loss_u: 1.37546e-03, Loss_f: 2.67619e-03\n",
      "Iter 700, Loss: 2.05120e-03, Loss_u: 5.96360e-04, Loss_f: 1.45484e-03\n",
      "Iter 800, Loss: 1.33177e-03, Loss_u: 3.92730e-04, Loss_f: 9.39037e-04\n",
      "Iter 900, Loss: 9.76924e-04, Loss_u: 3.04922e-04, Loss_f: 6.72002e-04\n",
      "Iter 1000, Loss: 7.09052e-04, Loss_u: 2.23843e-04, Loss_f: 4.85209e-04\n",
      "Iter 1100, Loss: 5.33425e-04, Loss_u: 1.65411e-04, Loss_f: 3.68014e-04\n",
      "Iter 1200, Loss: 4.22713e-04, Loss_u: 1.09116e-04, Loss_f: 3.13597e-04\n",
      "Iter 1300, Loss: 3.36389e-04, Loss_u: 6.86048e-05, Loss_f: 2.67785e-04\n",
      "Iter 1400, Loss: 2.86503e-04, Loss_u: 5.12880e-05, Loss_f: 2.35215e-04\n",
      "Iter 1500, Loss: 2.36655e-04, Loss_u: 4.60821e-05, Loss_f: 1.90573e-04\n",
      "Iter 1600, Loss: 2.01737e-04, Loss_u: 3.57271e-05, Loss_f: 1.66010e-04\n",
      "Iter 1700, Loss: 1.73897e-04, Loss_u: 2.89130e-05, Loss_f: 1.44983e-04\n",
      "Iter 1800, Loss: 1.50197e-04, Loss_u: 2.76193e-05, Loss_f: 1.22577e-04\n",
      "Iter 1900, Loss: 1.35552e-04, Loss_u: 2.55363e-05, Loss_f: 1.10016e-04\n",
      "Iter 2000, Loss: 1.20090e-04, Loss_u: 1.93713e-05, Loss_f: 1.00719e-04\n",
      "Iter 2100, Loss: 1.07920e-04, Loss_u: 1.68351e-05, Loss_f: 9.10845e-05\n",
      "Iter 2200, Loss: 9.89408e-05, Loss_u: 1.61947e-05, Loss_f: 8.27461e-05\n",
      "Iter 2300, Loss: 8.67649e-05, Loss_u: 1.54710e-05, Loss_f: 7.12939e-05\n",
      "Iter 2400, Loss: 7.81838e-05, Loss_u: 1.43475e-05, Loss_f: 6.38362e-05\n",
      "Iter 2500, Loss: 7.01456e-05, Loss_u: 1.32725e-05, Loss_f: 5.68731e-05\n",
      "Iter 2600, Loss: 6.44321e-05, Loss_u: 1.21213e-05, Loss_f: 5.23108e-05\n",
      "Iter 2700, Loss: 5.77563e-05, Loss_u: 1.02946e-05, Loss_f: 4.74618e-05\n",
      "Iter 2800, Loss: 5.14928e-05, Loss_u: 8.73583e-06, Loss_f: 4.27570e-05\n",
      "Iter 2900, Loss: 4.87870e-05, Loss_u: 9.23740e-06, Loss_f: 3.95496e-05\n",
      "Iter 3000, Loss: 4.51590e-05, Loss_u: 9.39248e-06, Loss_f: 3.57665e-05\n",
      "Iter 3100, Loss: 4.23884e-05, Loss_u: 9.96389e-06, Loss_f: 3.24245e-05\n",
      "Iter 3200, Loss: 3.92898e-05, Loss_u: 1.07801e-05, Loss_f: 2.85098e-05\n",
      "Iter 3300, Loss: 3.67345e-05, Loss_u: 9.85466e-06, Loss_f: 2.68799e-05\n",
      "Iter 3400, Loss: 3.37757e-05, Loss_u: 8.61058e-06, Loss_f: 2.51651e-05\n",
      "Iter 3500, Loss: 3.12932e-05, Loss_u: 8.26804e-06, Loss_f: 2.30252e-05\n",
      "Iter 3600, Loss: 2.95730e-05, Loss_u: 7.83883e-06, Loss_f: 2.17341e-05\n",
      "Iter 3700, Loss: 2.83373e-05, Loss_u: 7.44041e-06, Loss_f: 2.08969e-05\n",
      "Iter 3800, Loss: 2.71504e-05, Loss_u: 6.42281e-06, Loss_f: 2.07276e-05\n",
      "Iter 3900, Loss: 2.62306e-05, Loss_u: 5.71051e-06, Loss_f: 2.05201e-05\n",
      "Iter 4000, Loss: 2.52154e-05, Loss_u: 4.77592e-06, Loss_f: 2.04395e-05\n"
     ]
    }
   ],
   "source": [
    "model.train()"
   ]
  },
  {
   "cell_type": "code",
   "execution_count": 8,
   "metadata": {},
   "outputs": [
    {
     "name": "stdout",
     "output_type": "stream",
     "text": [
      "Error u: 8.642814e+00\n"
     ]
    }
   ],
   "source": [
    "u_pred, f_pred = model.predict(X_star)\n",
    "\n",
    "error_u = np.linalg.norm(u_star-u_pred,2)/np.linalg.norm(u_star,2)\n",
    "print('Error u: %e' % (error_u))                     \n",
    "\n",
    "U_pred = griddata(X_star, u_pred.flatten(), (X, T), method='cubic')\n",
    "Error = np.abs(Exact - U_pred)"
   ]
  },
  {
   "cell_type": "code",
   "execution_count": 9,
   "metadata": {},
   "outputs": [
    {
     "data": {
      "image/png": "[encoded data removed]",
      "text/plain": [
       "<Figure size 648x360 with 2 Axes>"
      ]
     },
     "metadata": {
      "needs_background": "light"
     },
     "output_type": "display_data"
    }
   ],
   "source": [
    "fig = plt.figure(figsize=(9, 5))\n",
    "ax = fig.add_subplot(111)\n",
    "\n",
    "h = ax.imshow(U_pred.T, interpolation='nearest', cmap='rainbow', \n",
    "              extent=[t.min(), t.max(), x.min(), x.max()], \n",
    "              origin='lower', aspect='auto')\n",
    "divider = make_axes_locatable(ax)\n",
    "cax = divider.append_axes(\"right\", size=\"5%\", pad=0.10)\n",
    "cbar = fig.colorbar(h, cax=cax)\n",
    "cbar.ax.tick_params(labelsize=15) \n",
    "\n",
    "ax.plot(\n",
    "    X_u_train[:,1], \n",
    "    X_u_train[:,0], \n",
    "    'kx', label = 'Data (%d points)' % (u_train.shape[0]), \n",
    "    markersize = 4,  # marker size doubled\n",
    "    clip_on = False,\n",
    "    alpha=1.0\n",
    ")\n",
    "\n",
    "line = np.linspace(x.min(), x.max(), 2)[:,None]\n",
    "ax.plot(t[25]*np.ones((2,1)), line, 'w-', linewidth = 1)\n",
    "ax.plot(t[50]*np.ones((2,1)), line, 'w-', linewidth = 1)\n",
    "ax.plot(t[75]*np.ones((2,1)), line, 'w-', linewidth = 1)\n",
    "\n",
    "ax.set_xlabel('$t$', size=20)\n",
    "ax.set_ylabel('$x$', size=20)\n",
    "ax.legend(\n",
    "    loc='upper center', \n",
    "    bbox_to_anchor=(0.9, -0.05), \n",
    "    ncol=5, \n",
    "    frameon=False, \n",
    "    prop={'size': 15}\n",
    ")\n",
    "ax.set_title('$u(t,x)$', fontsize = 20) # font size doubled\n",
    "ax.tick_params(labelsize=15)\n",
    "\n",
    "plt.show()"
   ]
  },
  {
   "cell_type": "code",
   "execution_count": 10,
   "metadata": {},
   "outputs": [
    {
     "name": "stderr",
     "output_type": "stream",
     "text": [
      "<ipython-input-10-9f8e96082c41>:7: MatplotlibDeprecationWarning: Auto-removal of overlapping axes is deprecated since 3.6 and will be removed two minor releases later; explicitly call ax.remove() as needed.\n",
      "  ax = plt.subplot(gs1[0, 0])\n"
     ]
    },
    {
     "data": {
      "image/png": "[encoded data removed]",
      "text/plain": [
       "<Figure size 1008x720 with 3 Axes>"
      ]
     },
     "metadata": {
      "needs_background": "light"
     },
     "output_type": "display_data"
    }
   ],
   "source": [
    "fig = plt.figure(figsize=(14, 10))\n",
    "ax = fig.add_subplot(111)\n",
    "\n",
    "gs1 = gridspec.GridSpec(1, 3)\n",
    "gs1.update(top=1-1.0/3.0-0.1, bottom=1.0-2.0/3.0, left=0.1, right=0.9, wspace=0.5)\n",
    "\n",
    "ax = plt.subplot(gs1[0, 0])\n",
    "ax.plot(x,Exact[25,:], 'b-', linewidth = 2, label = 'Exact')       \n",
    "ax.plot(x,U_pred[25,:], 'r--', linewidth = 2, label = 'Prediction')\n",
    "ax.set_xlabel('$x$')\n",
    "ax.set_ylabel('$u(t,x)$')    \n",
    "ax.set_title('$t = 0.25$', fontsize = 15)\n",
    "ax.axis('square')\n",
    "ax.set_xlim([-1.1,1.1])\n",
    "ax.set_ylim([-1.1,1.1])\n",
    "\n",
    "for item in ([ax.title, ax.xaxis.label, ax.yaxis.label] +\n",
    "             ax.get_xticklabels() + ax.get_yticklabels()):\n",
    "    item.set_fontsize(15)\n",
    "\n",
    "ax = plt.subplot(gs1[0, 1])\n",
    "ax.plot(x,Exact[50,:], 'b-', linewidth = 2, label = 'Exact')       \n",
    "ax.plot(x,U_pred[50,:], 'r--', linewidth = 2, label = 'Prediction')\n",
    "ax.set_xlabel('$x$')\n",
    "ax.set_ylabel('$u(t,x)$')\n",
    "ax.axis('square')\n",
    "ax.set_xlim([-1.1,1.1])\n",
    "ax.set_ylim([-1.1,1.1])\n",
    "ax.set_title('$t = 0.50$', fontsize = 15)\n",
    "ax.legend(\n",
    "    loc='upper center', \n",
    "    bbox_to_anchor=(0.5, -0.15), \n",
    "    ncol=5, \n",
    "    frameon=False, \n",
    "    prop={'size': 15}\n",
    ")\n",
    "\n",
    "for item in ([ax.title, ax.xaxis.label, ax.yaxis.label] +\n",
    "             ax.get_xticklabels() + ax.get_yticklabels()):\n",
    "    item.set_fontsize(15)\n",
    "\n",
    "ax = plt.subplot(gs1[0, 2])\n",
    "ax.plot(x,Exact[75,:], 'b-', linewidth = 2, label = 'Exact')       \n",
    "ax.plot(x,U_pred[75,:], 'r--', linewidth = 2, label = 'Prediction')\n",
    "ax.set_xlabel('$x$')\n",
    "ax.set_ylabel('$u(t,x)$')\n",
    "ax.axis('square')\n",
    "ax.set_xlim([-1.1,1.1])\n",
    "ax.set_ylim([-1.1,1.1])    \n",
    "ax.set_title('$t = 0.75$', fontsize = 15)\n",
    "\n",
    "for item in ([ax.title, ax.xaxis.label, ax.yaxis.label] +\n",
    "             ax.get_xticklabels() + ax.get_yticklabels()):\n",
    "    item.set_fontsize(15)\n",
    "\n",
    "plt.show()"
   ]
  }
 ],
 "metadata": {
  "kernelspec": {
   "display_name": "base",
   "language": "python",
   "name": "python3"
  },
  "language_info": {
   "codemirror_mode": {
    "name": "ipython",
    "version": 3
   },
   "file_extension": ".py",
   "mimetype": "text/x-python",
   "name": "python",
   "nbconvert_exporter": "python",
   "pygments_lexer": "ipython3",
   "version": "3.8.8"
  },
  "orig_nbformat": 4
 },
 "nbformat": 4,
 "nbformat_minor": 2
}
